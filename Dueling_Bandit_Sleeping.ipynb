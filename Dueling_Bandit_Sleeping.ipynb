{
  "cells": [
    {
      "cell_type": "code",
      "execution_count": null,
      "id": "a43fb45c",
      "metadata": {
        "id": "a43fb45c"
      },
      "outputs": [],
      "source": [
        "import numpy as np\n",
        "import random\n",
        "from time import sleep\n",
        "from tqdm import tqdm\n",
        "from scipy import linalg as LA\n",
        "from matplotlib import pyplot as plt \n",
        "from scipy.stats import mstats\n",
        "\n",
        "random.seed(10)\n",
        "colors = plt.rcParams[\"axes.prop_cycle\"].by_key()[\"color\"]"
      ]
    },
    {
      "cell_type": "code",
      "source": [
        "\n",
        "def excl_max(arr,indices):\n",
        "    mask = np.zeros(arr.size, dtype=bool)\n",
        "    mask[indices] = True\n",
        "    a = np.ma.array(arr, mask=mask)\n",
        "    return np.max(a)"
      ],
      "metadata": {
        "id": "BFX-_OFjio_j"
      },
      "id": "BFX-_OFjio_j",
      "execution_count": null,
      "outputs": []
    },
    {
      "cell_type": "code",
      "source": [
        "T = 50000\n",
        "K = 4\n",
        "niter = 1\n",
        "sampling_rules = [\"UCB\",\"SI-EXP3\",\"S-EXP3\"]\n",
        "\n",
        "regret = np.zeros((2,niter,T))\n",
        "\n",
        "for iter in tqdm(range(niter)):\n",
        "    L1=np.zeros((K,K))\n",
        "    L2=np.zeros((K,K))\n",
        "    n1=np.zeros(K)\n",
        "    z1=np.zeros(K)\n",
        "    n2=np.zeros(K)\n",
        "    z2=np.zeros(K)\n",
        "\n",
        "    cum_loss =np.zeros(K)\n",
        "\n",
        "    theta = np.array([1,2,3,10])#np.random.uniform(low=0.1,high=0.9,size=K)\n",
        "    print(theta)\n",
        "    pref=np.zeros((K,K))\n",
        "    for i in range(K):\n",
        "        for j in range(K):\n",
        "            pref[i][j]=theta[i]/(theta[i]+theta[j])\n",
        "\n",
        "\n",
        "    lossa1=np.zeros(K)\n",
        "    lossa2=np.zeros(K)\n",
        "    #lossb1=np.zeros(K)\n",
        "    #lossb2=np.zeros(K)\n",
        "\n",
        "    for t in range(T):\n",
        "\n",
        "\n",
        "        eta = 1/(t+1)**0.5\n",
        "        lam = 1/np.sqrt(t+1)\n",
        "\n",
        "        avail=np.ones(K,dtype=int)\n",
        "        \n",
        "        choicea1 = ucb(n1, z1, t, avail)\n",
        "        #choiceb1, L1 = SIEXP3(L1, eta, avail, lossb1)\n",
        "\n",
        "        \n",
        "        avail_moda=avail\n",
        "        #avail_modb=avail\n",
        "        avail_moda[choicea1]=0\n",
        "        #avail_modb[choiceb1]=0\n",
        "\n",
        "        \n",
        "        choicea2 = ucb(n2, z2, t, avail_moda)\n",
        "        #choicea2=0 #np.random.randint(0,K)\n",
        "        #while choicea2==choicea1:\n",
        "        #    choicea2=np.random.randint(0,K)\n",
        "        #choiceb2, L2 = SIEXP3(L2, eta, avail_modb, lossb2)\n",
        "\n",
        "        lossa1=np.random.binomial(n=1,p=pref[choicea2],size=K)\n",
        "        lossa2=np.random.binomial(n=1,p=pref[choicea1],size=K)\n",
        "\n",
        "        #print(pref[choicea2])\n",
        "        cum_loss+=lossa1\n",
        "        n1,z1=ucb_update(n1,z1,lossa1,choicea1)\n",
        "        n2,z2=ucb_update(n2,z2,lossa2,choicea2)\n",
        "\n",
        "        #lossb1=np.random.binomial(n=1,p=pref[choiceb2][0],size=K)\n",
        "        #lossb1=np.multiply(lossb1,avail)\n",
        "        #lossb2=np.random.binomial(n=1,p=pref[choiceb1][0],size=K)\n",
        "        #lossb2=np.multiply(lossb2,avail_modb)\n",
        "\n",
        "        choicea1=[choicea1]\n",
        "        choicea2=[choicea2]\n",
        "        \n",
        "        #print(theta,n1/t,choicea1)\n",
        "        #oracle_choice = np.argmax(theta)\n",
        "        #regret[0,iter,t] = lossa1[choicea1]-lossa1[oracle_choice]\n",
        "\n",
        "        regret[0,iter,t]=(excl_max(np.squeeze(pref[:,choicea1],1),choicea1)+excl_max(np.squeeze(pref[:,choicea2],1),choicea2)-1)/2.0\n",
        "        #regret[1,iter,t]=(excl_max(np.squeeze(pref[:,choiceb1],1),choiceb1)+excl_max(np.squeeze(pref[:,choiceb2],1),choiceb2)-1)/2.0\n",
        "\n",
        "    #times=np.arange(T)\n",
        "    print(cum_loss/T)\n",
        "    regret[0,iter,:]=np.cumsum(regret[0,iter,:])#/times\n",
        "    #regret[1,iter,:]=np.cumsum(regret[1,iter,:])\n"
      ],
      "metadata": {
        "id": "J95V1W0bNRci"
      },
      "id": "J95V1W0bNRci",
      "execution_count": null,
      "outputs": []
    },
    {
      "cell_type": "code",
      "source": [
        "T_plot = T\n",
        "fig=plt.figure(figsize=(4,3), dpi= 100, facecolor='w', edgecolor='k')  # to have big plots\n",
        "for i in range(1):\n",
        "    means = np.mean(regret[i,:,:], axis=0)\n",
        "    quantiles = mstats.mquantiles(regret[i,:,:], axis=0)\n",
        "    plt.plot(np.arange(T_plot-1),means[1:T_plot], label=sampling_rules[i], color = colors[i+1], linewidth=2)\n",
        "    plt.fill_between(np.arange(T_plot-1), quantiles[0,1:T_plot] ,quantiles[2,1:T_plot], color= colors[i+1], alpha=.2)\n",
        "plt.xlabel(\"Time\")\n",
        "plt.ylabel('Regret')\n",
        "plt.legend()\n",
        "plt.savefig('exp1.pdf', bbox_inches = \"tight\")\n",
        "plt.show()"
      ],
      "metadata": {
        "id": "4aXEvMK9j1S7"
      },
      "id": "4aXEvMK9j1S7",
      "execution_count": null,
      "outputs": []
    },
    {
      "cell_type": "code",
      "source": [
        "T = 1000\n",
        "K = 3\n",
        "niter = 1\n",
        "sampling_rules = [\"UCB\",\"SI-EXP3\",\"S-EXP3\"]\n",
        "\n",
        "regret = np.zeros((niter,T))\n",
        "\n",
        "for iter in tqdm(range(niter)):\n",
        "    \n",
        "    sleep=np.random.uniform(low=0.3,high=0.9,size=K)\n",
        "    L1=np.zeros((K,K))\n",
        "    L2=np.zeros((K,K))\n",
        "\n",
        "    cum_loss =np.zeros(K)\n",
        "\n",
        "    theta = np.random.uniform(low=0.1,high=0.9,size=K)\n",
        "    pref=np.zeros((K,K))\n",
        "    for i in range(K):\n",
        "        for j in range(K):\n",
        "            pref[i][j]=theta[i]/(theta[i]+theta[j])\n",
        "\n",
        "\n",
        "    for t in range(T):\n",
        "        #loss=1-np.array(range(K),float)/K\n",
        "        loss1=np.zeros(K)\n",
        "        loss2=np.zeros(K)\n",
        "        avail=np.array(np.random.binomial(n=1,p=sleep,size=K))\n",
        "        while np.count_nonzero(avail == 1) <2:\n",
        "            avail=np.array(np.random.binomial(n=1,p=sleep,size=K))\n",
        "\n",
        "        eta = 1/(t+1)**0.5\n",
        "        lam = 1/np.sqrt(t+1)\n",
        "\n",
        "\n",
        "\n",
        "        choice1, L1 = SIEXP3(L1, eta, avail, loss1)\n",
        "\n",
        "        avail_mod=avail\n",
        "        avail_mod[choice1]=0\n",
        "\n",
        "        choice2, L2 = SIEXP3(L2, eta, avail_mod, loss2)\n",
        "\n",
        "\n",
        "        loss1=np.random.binomial(n=1,p=pref[choice2][0],size=K)\n",
        "        \n",
        "        loss1=np.multiply(loss1,avail)\n",
        "\n",
        "        loss2=np.random.binomial(n=1,p=pref[choice1][0],size=K)\n",
        "        loss2=np.multiply(loss2,avail_mod)\n",
        "\n",
        "        oracle_choice = np.max(np.where(avail >0))\n",
        "        print(choice1,choice2)\n",
        "        #regret[iter,t] = loss[choice1]-loss[oracle_choice]\n"
      ],
      "metadata": {
        "id": "FgFfXSKT-tHO"
      },
      "id": "FgFfXSKT-tHO",
      "execution_count": null,
      "outputs": []
    },
    {
      "cell_type": "markdown",
      "id": "a9bd7d89",
      "metadata": {
        "id": "a9bd7d89"
      },
      "source": [
        "###  UCB Algorithm\n",
        "\n",
        "n: vector of dim k stating number of pulls of each arm\\\n",
        "z: vector of dim k stating cumulative loss of each arm\\\n",
        "t: number of rounds\\\n",
        "avail: vector of dim k stating availabilities\\\n",
        "loss: instantaneous loss vector of the arms\\\n",
        "\\\n",
        "return: chosen arm, and updated value for n, z, and t\n"
      ]
    },
    {
      "cell_type": "code",
      "execution_count": null,
      "id": "778f4f56",
      "metadata": {
        "id": "778f4f56"
      },
      "outputs": [],
      "source": [
        "def ucb(n, z, t, avail):\n",
        "    if 0 in n[avail==1]: # some arm is available and has not been pulled yet\n",
        "        #iaux = random.randint(0,np.sum((n==0)*(avail==1))-1)\n",
        "        choice = np.where((n==0)*(avail==1))[0][0]#[iaux] # select one of these arms at random\n",
        "    else:\n",
        "        lmin = np.min((z/np.maximum(n,1)-np.sqrt(8*np.log(t+1)/np.maximum(n,1)))[avail==1])\n",
        "        aux = (z/np.maximum(n,1)-np.sqrt(8*np.log(t+1)/np.maximum(n,1)) == lmin)*(avail==1)\n",
        "        iaux = random.randint(0,np.sum(aux)-1)\n",
        "        choice = np.where(aux)[0][iaux]\n",
        "\n",
        "    \n",
        "    return choice"
      ]
    },
    {
      "cell_type": "code",
      "source": [
        "def ucb_update(n, z, loss, choice):\n",
        "        \n",
        "    z[choice]+=loss[choice]\n",
        "    n[choice]+=1\n",
        "    \n",
        "    return n, z"
      ],
      "metadata": {
        "id": "d5rD4rPJoiVV"
      },
      "id": "d5rD4rPJoiVV",
      "execution_count": null,
      "outputs": []
    },
    {
      "cell_type": "markdown",
      "id": "e943297f",
      "metadata": {
        "id": "e943297f"
      },
      "source": [
        "### Internal regret algorithm\n",
        "\n",
        "L: matrix of size K x K containing the cumulative losses of experts i->j\n"
      ]
    },
    {
      "cell_type": "code",
      "execution_count": null,
      "id": "c7897733",
      "metadata": {
        "id": "c7897733"
      },
      "outputs": [],
      "source": [
        "########## INTERNAL REGRET ALGORITHM       \n",
        "\n",
        "def SIEXP3(L, eta, avail, loss):\n",
        "    \n",
        "    K = len(L)\n",
        "    k = np.sum(avail)\n",
        "    \n",
        "    if k>1:\n",
        "        idx = np.array(np.where(avail>0)).reshape(k,1)\n",
        "        M = L[idx,idx.T]\n",
        "        \n",
        "        min_loss = 0\n",
        "        if len(np.where(M>0)[0])>0:\n",
        "            min_loss = np.min(M[np.where(M>0)])\n",
        "\n",
        "        # define the exponential matrix Q\n",
        "        Q = np.zeros((k,k))\n",
        "        for i in range(k):\n",
        "            for j in range(k):\n",
        "                if i!=j:\n",
        "                    Q[i][j]=np.exp(-eta*(M[i][j] - min_loss))\n",
        "\n",
        "        # normalize entries\n",
        "        Qt=np.zeros((k,k))\n",
        "        for i in range(k):\n",
        "            for j in range(k):\n",
        "                Qt[i][j]=Q[i][j]/np.sum(Q[j])\n",
        "\n",
        "        v, w = LA.eig(np.transpose(Qt))\n",
        "        w=np.transpose(w)\n",
        "\n",
        "        probs=np.absolute(np.real(w[np.argmin(np.absolute(v - 1))]))\n",
        "    else:\n",
        "        probs = 1\n",
        "    \n",
        "    p = np.zeros(K)\n",
        "    p[np.where(avail>0)] = probs/np.sum(probs)\n",
        "    \n",
        "    choice=np.random.choice(a=K,size=1,p=p)\n",
        "\n",
        "    expert_probs=np.zeros((K,K,K))\n",
        "    for i in range(K):\n",
        "        for j in range(K):\n",
        "            if i!=j:\n",
        "                temp=p.copy()\n",
        "                temp[i]=0\n",
        "                temp[j]=p[i]+p[j]\n",
        "                expert_probs[i][j]=temp\n",
        "\n",
        "    est_loss=np.zeros(K)\n",
        "    est_loss[choice]=loss[choice]/p[choice]\n",
        "    \n",
        "    expert_loss=np.zeros((K,K))\n",
        "    for i in range(K):\n",
        "        for j in range(K):\n",
        "            if i!=j:\n",
        "                if avail[j] == 1:\n",
        "                    expert_loss[i][j]=np.dot(expert_probs[i][j],est_loss)\n",
        "                else:\n",
        "                    expert_loss[i][j]=loss[choice]\n",
        "\n",
        "    L+=expert_loss\n",
        "    return choice, L"
      ]
    },
    {
      "cell_type": "markdown",
      "id": "e4c414b1",
      "metadata": {
        "id": "e4c414b1"
      },
      "source": [
        "### Sleeping Exp3 from ICML paper"
      ]
    },
    {
      "cell_type": "code",
      "execution_count": null,
      "id": "602cea6c",
      "metadata": {
        "id": "602cea6c"
      },
      "outputs": [],
      "source": [
        "def projected_prob(p,s):\n",
        "    q=np.multiply(p,s)/np.sum(p[s==1])\n",
        "    return q"
      ]
    },
    {
      "cell_type": "code",
      "execution_count": null,
      "id": "aecdc841",
      "metadata": {
        "id": "aecdc841"
      },
      "outputs": [],
      "source": [
        "def sleeping_exp3(cum_loss,S,eta,lam,avail,loss):\n",
        "    \n",
        "    K = len(cum_loss)\n",
        "    p = np.exp(-eta * (cum_loss - np.min(cum_loss)))\n",
        "    q = projected_prob(p,avail)\n",
        "    choice = np.random.choice(a=K,size=1,p=q)\n",
        "    S = np.append(S, avail.reshape((1,K)), axis=0)\n",
        "\n",
        "    q_bar = np.zeros(K)\n",
        "    for i in range(len(S)):\n",
        "        q_bar = i/(i+1) * q_bar + 1/(i+1) * projected_prob(p, S[i])\n",
        "    \n",
        "    est_loss=np.zeros(K)\n",
        "    est_loss[choice]=loss[choice]/(q_bar[choice]+lam)\n",
        "    \n",
        "    cum_loss+= est_loss\n",
        "    return choice, cum_loss, S"
      ]
    },
    {
      "cell_type": "markdown",
      "id": "15e1e6cf",
      "metadata": {
        "id": "15e1e6cf"
      },
      "source": [
        "### Experiment 1\n",
        "\n",
        "Fixed losses : (1/K,2/K,...,1)\\\n",
        "IID availabilities\\\n",
        "K = 10"
      ]
    },
    {
      "cell_type": "code",
      "execution_count": null,
      "id": "d6ad841c",
      "metadata": {
        "id": "d6ad841c"
      },
      "outputs": [],
      "source": [
        "T = 1000\n",
        "K = 10\n",
        "niter = 20\n",
        "sampling_rules = [\"UCB\",\"SI-EXP3\",\"S-EXP3\"]\n",
        "\n",
        "regret = np.zeros((3,niter,T))\n",
        "\n",
        "for i in tqdm(range(niter)):\n",
        "    \n",
        "    sleep=np.random.uniform(low=0.3,high=0.9,size=K)\n",
        "    n=np.zeros(K)\n",
        "    z=np.zeros(K)\n",
        "    L=np.zeros((K,K))\n",
        "\n",
        "    S = np.empty((0,K), int)\n",
        "    cum_loss =np.zeros(K)\n",
        "\n",
        "    for t in range(T):\n",
        "        loss=1-np.array(range(K),float)/K\n",
        "        avail=np.array(np.random.binomial(n=1,p=sleep,size=K))\n",
        "        while 1 not in avail:\n",
        "            avail=np.array(np.random.binomial(n=1,p=sleep,size=K))\n",
        "\n",
        "        eta = 1/(t+1)**0.5\n",
        "        lam = 1/np.sqrt(t+1)\n",
        "\n",
        "        choice1, n, z = ucb(n, z, t, avail, loss)\n",
        "        choice2, L = SIEXP3(L, eta, avail, loss)\n",
        "        choice3, cum_loss, S = sleeping_exp3(cum_loss,S,eta,lam,avail,loss)\n",
        "        oracle_choice = np.max(np.where(avail >0))\n",
        "        \n",
        "        regret[0,i,t] = loss[choice1]-loss[oracle_choice]\n",
        "        regret[1,i,t] = loss[choice2]-loss[oracle_choice]\n",
        "        regret[2,i,t] = loss[choice3]-loss[oracle_choice]\n",
        "    \n",
        "    for j in range(3):\n",
        "        regret[j,i,:] = np.cumsum(regret[j,i,:])\n"
      ]
    },
    {
      "cell_type": "code",
      "execution_count": null,
      "id": "c2db8f82",
      "metadata": {
        "id": "c2db8f82"
      },
      "outputs": [],
      "source": [
        "T_plot = T\n",
        "fig=plt.figure(figsize=(4,3), dpi= 100, facecolor='w', edgecolor='k')  # to have big plots\n",
        "for i in range(3):\n",
        "    means = np.mean(regret[i,:,:], axis=0)\n",
        "    quantiles = mstats.mquantiles(regret[i,:,:], axis=0)\n",
        "    plt.plot(np.arange(T_plot-1),means[1:T_plot], label=sampling_rules[i], color = colors[i+1], linewidth=2)\n",
        "    plt.fill_between(np.arange(T_plot-1), quantiles[0,1:T_plot] ,quantiles[2,1:T_plot], color= colors[i+1], alpha=.2)\n",
        "plt.xlabel(\"Time\")\n",
        "plt.ylabel('Regret')\n",
        "plt.legend()\n",
        "plt.savefig('exp1.pdf', bbox_inches = \"tight\")\n",
        "plt.show()"
      ]
    },
    {
      "cell_type": "markdown",
      "id": "e677ec96",
      "metadata": {
        "id": "e677ec96"
      },
      "source": [
        "### Experiment 2\n",
        "\n",
        "Dependent losses and availabilities"
      ]
    },
    {
      "cell_type": "code",
      "execution_count": null,
      "id": "061209ad",
      "metadata": {
        "id": "061209ad"
      },
      "outputs": [],
      "source": [
        "T = 3000\n",
        "K = 3\n",
        "niter = 20\n",
        "\n",
        "regret = np.zeros((3,niter,T))\n",
        "\n",
        "for i in tqdm(range(niter)):\n",
        "\n",
        "\n",
        "    mu=np.random.uniform(low=0.3,high=0.9,size=K)\n",
        "    sleep=np.random.uniform(low=0.3,high=0.9,size=K)\n",
        "\n",
        "    n=np.zeros(K)\n",
        "    z=np.zeros(K)\n",
        "    L=np.zeros((K,K))\n",
        "\n",
        "    S = np.empty((0,K), int)\n",
        "    cum_loss =np.zeros(K)\n",
        "\n",
        "\n",
        "\n",
        "    for t in range(T):\n",
        "\n",
        "        a=random.randint(0,K)            \n",
        "        if a==0:\n",
        "            avail=np.array([1,1,0])\n",
        "            loss=np.array([0,.5,1],float)\n",
        "        elif a==1:\n",
        "            avail=np.array([1,1,1])\n",
        "            loss=np.array([0,.5,1],float)\n",
        "        elif a==2:\n",
        "            avail=np.array([1,0,1])\n",
        "            loss=np.array([1,0,0],float)\n",
        "        elif a==3:\n",
        "            avail=np.array([0,1,1])\n",
        "            loss=np.array([0,0,1],float)\n",
        "\n",
        "        eta = 1/(t+1)**0.5\n",
        "        lam = 1/np.sqrt(t+1)\n",
        "\n",
        "        choice1, n, z = ucb(n, z, t, avail, loss)\n",
        "        choice2, L = SIEXP3(L, eta, avail, loss)\n",
        "        choice3, cum_loss, S = sleeping_exp3(cum_loss,S,eta,lam,avail,loss)\n",
        "\n",
        "        regret[0,i,t] = loss[choice1]\n",
        "        regret[1,i,t] = loss[choice2]\n",
        "        regret[2,i,t] = loss[choice3]\n",
        "    \n",
        "    for j in range(3):\n",
        "        regret[j,i,:] = np.cumsum(regret[j,i,:])"
      ]
    },
    {
      "cell_type": "code",
      "execution_count": null,
      "id": "555b3128",
      "metadata": {
        "id": "555b3128"
      },
      "outputs": [],
      "source": [
        "T_plot = T\n",
        "fig=plt.figure(figsize=(4,3), dpi= 100, facecolor='w', edgecolor='k')  # to have big plots\n",
        "for i in range(3):\n",
        "    means = np.mean(regret[i,:,:], axis=0)\n",
        "    quantiles = mstats.mquantiles(regret[i,:,:], axis=0)\n",
        "    plt.plot(np.arange(T_plot-1),means[1:T_plot], label=sampling_rules[i], color = colors[i+1], linewidth=2)\n",
        "    plt.fill_between(np.arange(T_plot-1), quantiles[0,1:T_plot] ,quantiles[2,1:T_plot], color= colors[i+1], alpha=.2)\n",
        "plt.xlabel(\"Time\")\n",
        "plt.ylabel('Regret')\n",
        "plt.legend()\n",
        "plt.savefig('exp2_adversarial.pdf', bbox_inches = \"tight\")\n",
        "plt.show()"
      ]
    },
    {
      "cell_type": "markdown",
      "id": "e29b6efb",
      "metadata": {
        "id": "e29b6efb"
      },
      "source": [
        "### Experiment 3\n",
        "\n",
        "IID Bernoulli losses and availabilities"
      ]
    },
    {
      "cell_type": "code",
      "execution_count": null,
      "id": "d3809296",
      "metadata": {
        "id": "d3809296"
      },
      "outputs": [],
      "source": [
        "sampling_rules = [\"UCB\",\"SI-EXP3\",\"S-EXP3\"]\n",
        "\n",
        "T = 5000\n",
        "K = 10\n",
        "niter = 20\n",
        "\n",
        "regret = np.zeros((3,niter,T))\n",
        "\n",
        "for i in tqdm(range(niter)):\n",
        "    mu=np.random.uniform(low=0.3,high=0.9,size=K)\n",
        "    sleep=np.random.uniform(low=0.3,high=0.9,size=K)\n",
        "\n",
        "    n=np.zeros(K)\n",
        "    z=np.zeros(K)\n",
        "    L=np.zeros((K,K))\n",
        "\n",
        "    S = np.empty((0,K), int)\n",
        "    cum_loss =np.zeros(K)\n",
        "    \n",
        "    for t in range(T):\n",
        "        loss=np.array(np.random.binomial(n=1,p=mu,size=K),float)\n",
        "        avail=np.array(np.random.binomial(n=1,p=sleep,size=K))\n",
        "        while 1 not in avail:\n",
        "            avail=np.array(np.random.binomial(n=1,p=sleep,size=K))\n",
        "\n",
        "        eta = 1/(t+1)**0.5\n",
        "        lam = 1/np.sqrt(t+1)\n",
        "\n",
        "        choice1, n, z = ucb(n, z, t, avail, loss)\n",
        "        choice2, L = SIEXP3(L, eta, avail, loss)\n",
        "        choice3, cum_loss, S = sleeping_exp3(cum_loss,S,eta,lam,avail,loss)\n",
        "        \n",
        "        idx = np.where(avail >0)\n",
        "        oracle_choice = idx[0][np.argmin(mu[idx])]\n",
        "\n",
        "        regret[0,i,t] = loss[choice1]-loss[oracle_choice]\n",
        "        regret[1,i,t] = loss[choice2]-loss[oracle_choice]\n",
        "        regret[2,i,t] = loss[choice3]-loss[oracle_choice]\n",
        "    \n",
        "    for j in range(3):\n",
        "        regret[j,i,:] = np.cumsum(regret[j,i,:])"
      ]
    },
    {
      "cell_type": "code",
      "execution_count": null,
      "id": "3b1da02c",
      "metadata": {
        "id": "3b1da02c"
      },
      "outputs": [],
      "source": [
        "T_plot = T\n",
        "fig=plt.figure(figsize=(4,3), dpi= 100, facecolor='w', edgecolor='k')  # to have big plots\n",
        "for i in range(3):\n",
        "    means = np.mean(regret[i,:,:], axis=0)\n",
        "    quantiles = mstats.mquantiles(regret[i,:,:], axis=0)\n",
        "    plt.plot(np.arange(T_plot-1),means[1:T_plot], label=sampling_rules[i], color = colors[i+1], linewidth=2)\n",
        "    plt.fill_between(np.arange(T_plot-1), quantiles[0,1:T_plot] ,quantiles[2,1:T_plot], color= colors[i+1], alpha=.2)\n",
        "plt.xlabel(\"Time\")\n",
        "plt.ylabel('Regret')\n",
        "plt.legend()\n",
        "plt.savefig('full_iid_exp3.pdf', bbox_inches = \"tight\")\n",
        "plt.show()"
      ]
    },
    {
      "cell_type": "markdown",
      "id": "fb7fe459",
      "metadata": {
        "id": "fb7fe459"
      },
      "source": [
        "### Experiment 4: adversarial"
      ]
    },
    {
      "cell_type": "code",
      "execution_count": null,
      "id": "6f690bc3",
      "metadata": {
        "id": "6f690bc3"
      },
      "outputs": [],
      "source": [
        "sampling_rules = [\"UCB\",\"SI-EXP3\",\"S-EXP3\"]\n",
        "\n",
        "T = 500\n",
        "K = 10\n",
        "niter = 20\n",
        "\n",
        "regret = np.zeros((3,niter,T))\n",
        "\n",
        "for i in tqdm(range(niter)):\n",
        "    \n",
        "    sleep=np.random.uniform(low=0.3,high=0.9,size=K)\n",
        "\n",
        "    n=np.zeros(K)\n",
        "    z=np.zeros(K)\n",
        "    L=np.zeros((K,K))\n",
        "\n",
        "    S = np.empty((0,K), int)\n",
        "    cum_loss =np.zeros(K)\n",
        "    \n",
        "    for t in range(T):\n",
        "        loss=np.array(np.random.binomial(n=1,p=mu,size=K),float)\n",
        "        avail=np.array(np.random.binomial(n=1,p=sleep,size=K))\n",
        "        while 1 not in avail:\n",
        "            avail=np.array(np.random.binomial(n=1,p=sleep,size=K))\n",
        "\n",
        "        eta = 1/(t+1)**0.5\n",
        "        lam = 1/np.sqrt(t+1)\n",
        "\n",
        "        choice1, n, z = ucb(n, z, t, avail, loss)\n",
        "        choice2, L = SIEXP3(L, eta, avail, loss)\n",
        "        choice3, cum_loss, S = sleeping_exp3(cum_loss,S,eta,lam,avail,loss)\n",
        "        \n",
        "        idx = np.where(avail >0)\n",
        "        oracle_choice = idx[0][np.argmin(mu[idx])]\n",
        "\n",
        "        regret[0,i,t] = loss[choice1]-loss[oracle_choice]\n",
        "        regret[1,i,t] = loss[choice2]-loss[oracle_choice]\n",
        "        regret[2,i,t] = loss[choice3]-loss[oracle_choice]\n",
        "    \n",
        "    for j in range(3):\n",
        "        regret[j,i,:] = np.cumsum(regret[j,i,:])"
      ]
    },
    {
      "cell_type": "markdown",
      "id": "11efce52",
      "metadata": {
        "id": "11efce52"
      },
      "source": [
        "### Experiment 4: random with dependence\n"
      ]
    },
    {
      "cell_type": "code",
      "execution_count": null,
      "id": "f26fe111",
      "metadata": {
        "id": "f26fe111",
        "outputId": "e275e6d1-b21c-4c4d-c7ea-a5545b1e513d"
      },
      "outputs": [
        {
          "name": "stderr",
          "output_type": "stream",
          "text": [
            "100%|█████████████████████████████████████████████| 3/3 [01:30<00:00, 30.29s/it]\n"
          ]
        }
      ],
      "source": [
        "sampling_rules = [\"UCB\",\"SI-EXP3\",\"S-EXP3\"]\n",
        "\n",
        "T = 2000\n",
        "K = 5\n",
        "niter = 20\n",
        "\n",
        "regret = np.zeros((3,niter,T))\n",
        "\n",
        "M = 5\n",
        "A = np.zeros((M,K), int)\n",
        "mu = np.zeros((M,K), float)\n",
        "\n",
        "for i in range(M):\n",
        "    A[i]=np.random.binomial(n=1,p=.7,size=K)\n",
        "    while 1 not in A[i]:\n",
        "        A[i]=np.random.binomial(n=1,p=.7,size=K)\n",
        "    mu[i]=np.random.uniform(low=0.3,high=0.9,size=K)\n",
        "    \n",
        "for i in tqdm(range(niter)):\n",
        "\n",
        "    n=np.zeros(K)\n",
        "    z=np.zeros(K)\n",
        "    L=np.zeros((K,K))\n",
        "\n",
        "    S = np.empty((0,K), int)\n",
        "    cum_loss =np.zeros(K)\n",
        "    \n",
        "    \n",
        "    for t in range(T):\n",
        "        a=random.randint(0,M-1)\n",
        "        loss=np.array(np.random.binomial(n=1,p=mu[a],size=K),float)\n",
        "        avail=A[a]\n",
        "\n",
        "        eta = 1/(t+1)**0.5\n",
        "        lam = 1/np.sqrt(t+1)\n",
        "\n",
        "        choice1, n, z = ucb(n, z, t, avail, loss)\n",
        "        choice2, L = SIEXP3(L, eta, avail, loss)\n",
        "        choice3, cum_loss, S = sleeping_exp3(cum_loss,S,eta,lam,avail,loss)\n",
        "        \n",
        "        idx = np.where(avail >0)\n",
        "        oracle_choice = idx[0][np.argmin(mu[a,idx])]\n",
        "\n",
        "        regret[0,i,t] = loss[choice1]-loss[oracle_choice]\n",
        "        regret[1,i,t] = loss[choice2]-loss[oracle_choice]\n",
        "        regret[2,i,t] = loss[choice3]-loss[oracle_choice]\n",
        "    \n",
        "    for j in range(3):\n",
        "        regret[j,i,:] = np.cumsum(regret[j,i,:])"
      ]
    },
    {
      "cell_type": "code",
      "execution_count": null,
      "id": "b2d6c1ca",
      "metadata": {
        "id": "b2d6c1ca",
        "outputId": "99c9cbe2-8f5e-4794-b5fb-4790a27b8474"
      },
      "outputs": [
        {
          "data": {
            "image/png": "[encoded data removed]",
            "text/plain": [
              "<Figure size 400x300 with 1 Axes>"
            ]
          },
          "metadata": {},
          "output_type": "display_data"
        }
      ],
      "source": [
        "sampling_rules = [\"UCB\",\"SI-EXP3\",\"S-EXP3\"]\n",
        "T_plot = T\n",
        "fig=plt.figure(figsize=(4,3), dpi= 100, facecolor='w', edgecolor='k')  # to have big plots\n",
        "for i in range(3):\n",
        "    means = np.mean(regret[i,:,:], axis=0)\n",
        "    quantiles = mstats.mquantiles(regret[i,:,:], axis=0)\n",
        "    plt.plot(np.arange(T_plot-1),means[1:T_plot], label=sampling_rules[i], color = colors[i+1], linewidth=2)\n",
        "    plt.fill_between(np.arange(T_plot-1), quantiles[0,1:T_plot] ,quantiles[2,1:T_plot], color= colors[i+1], alpha=.2)\n",
        "plt.xlabel(\"Time\")\n",
        "plt.ylabel('Regret')\n",
        "plt.legend()\n",
        "plt.savefig('exp4_iid_dependent.pdf', bbox_inches = \"tight\")\n",
        "plt.show()"
      ]
    },
    {
      "cell_type": "markdown",
      "id": "5a4a2993",
      "metadata": {
        "id": "5a4a2993"
      },
      "source": [
        "### Exp 5: random zero-sum game with unavailable actions for both players"
      ]
    },
    {
      "cell_type": "code",
      "execution_count": null,
      "id": "9598dab1",
      "metadata": {
        "id": "9598dab1",
        "outputId": "09238f4e-6b63-46d3-f264-2b5cdb7f1949"
      },
      "outputs": [
        {
          "name": "stderr",
          "output_type": "stream",
          "text": [
            "100%|███████████████████████████████████████████| 10/10 [09:49<00:00, 58.97s/it]\n"
          ]
        }
      ],
      "source": [
        "import nashpy as nash\n",
        "\n",
        "sampling_rules = [\"UCB\",\"SI-EXP3\",\"S-EXP3\"]\n",
        "T = 2000\n",
        "K = 3\n",
        "niter = 10\n",
        "\n",
        "\n",
        "regret = np.zeros((3,niter,T))\n",
        "\n",
        "for i in tqdm(range(niter)):\n",
        "\n",
        "    n=np.zeros(K)\n",
        "    z=np.zeros(K)\n",
        "    L=np.zeros((K,K))\n",
        "\n",
        "    S = np.empty((0,K), int)\n",
        "    cum_loss =np.zeros(K)\n",
        "    \n",
        "    G = np.array([[0, -1, 1], [1, 0, -1], [-1, 1, 0]]) # rock paper scisors matrix\n",
        "#     G = np.random.uniform(low=0, high=1, size=(K, K))\n",
        "#     G = (np.triu(G) + np.triu(1-G).T) - np.identity(K) / 2\n",
        "\n",
        "    M = 4\n",
        "    A = np.zeros((M,K), int)\n",
        "    w = np.zeros((M,K), float)\n",
        "\n",
        "    for j in range(M):\n",
        "        A[j]=np.random.binomial(n=1,p=.7,size=K)\n",
        "        while sum(A[j]) < 2:\n",
        "            A[j]=np.random.binomial(n=1,p=.7,size=K)\n",
        "\n",
        "        k=sum(A[j])\n",
        "        idx = np.array(np.where(A[j]>0)).reshape(k,1)\n",
        "        G0 = G[idx,idx.T]\n",
        "        rps = nash.Game(G0)\n",
        "        w[j,idx.T] = list(rps.support_enumeration())[0][0]\n",
        "    \n",
        "    \n",
        "    for t in range(T):\n",
        "        a=np.random.randint(0,M-1)\n",
        "        adv=np.random.choice(K,1,p=w[a]) # adversary plays Nash equilibrium\n",
        "        loss=1-G[:,adv]\n",
        "        avail=A[a]\n",
        "        \n",
        "        eta = 1/(t+1)**0.5\n",
        "        lam = 1/np.sqrt(t+1)\n",
        "\n",
        "        choice1, n, z = ucb(n, z, t, avail, loss)\n",
        "        choice2, L = SIEXP3(L, eta, avail, loss)\n",
        "        choice3, cum_loss, S = sleeping_exp3(cum_loss,S,eta,lam,avail,loss)\n",
        "\n",
        "        regret[0,i,t] = loss[choice1] - .5\n",
        "        regret[1,i,t] = loss[choice2] - .5\n",
        "        regret[2,i,t] = loss[choice3] - .5\n",
        "    \n",
        "    for j in range(3):\n",
        "        regret[j,i,:] = np.cumsum(regret[j,i,:])"
      ]
    },
    {
      "cell_type": "code",
      "execution_count": null,
      "id": "b81e48aa",
      "metadata": {
        "id": "b81e48aa",
        "outputId": "98da46bd-716d-493c-8dbd-f9bdc004081d"
      },
      "outputs": [
        {
          "data": {
            "image/png": "[encoded data removed]",
            "text/plain": [
              "<Figure size 400x300 with 1 Axes>"
            ]
          },
          "metadata": {},
          "output_type": "display_data"
        }
      ],
      "source": [
        "sampling_rules = [\"UCB\",\"SI-EXP3\",\"S-EXP3\"]\n",
        "T_plot = T\n",
        "fig=plt.figure(figsize=(4,3), dpi= 100, facecolor='w', edgecolor='k')  # to have big plots\n",
        "for i in range(3):\n",
        "    means = np.mean(regret[i,:,:], axis=0)\n",
        "    quantiles = mstats.mquantiles(regret[i,:,:], axis=0)\n",
        "    plt.plot(np.arange(T_plot-1),means[1:T_plot], label=sampling_rules[i], color = colors[i+1], linewidth=2)\n",
        "    plt.fill_between(np.arange(T_plot-1), quantiles[0,1:T_plot] ,quantiles[2,1:T_plot], color= colors[i+1], alpha=.2)\n",
        "plt.xlabel(\"Time\")\n",
        "plt.ylabel('Regret')\n",
        "plt.legend()\n",
        "plt.savefig('exp5_random_zero_sum_game.pdf', bbox_inches = \"tight\")\n",
        "plt.show()"
      ]
    }
  ],
  "metadata": {
    "kernelspec": {
      "display_name": "Python 3 (ipykernel)",
      "language": "python",
      "name": "python3"
    },
    "language_info": {
      "codemirror_mode": {
        "name": "ipython",
        "version": 3
      },
      "file_extension": ".py",
      "mimetype": "text/x-python",
      "name": "python",
      "nbconvert_exporter": "python",
      "pygments_lexer": "ipython3",
      "version": "3.9.7"
    },
    "colab": {
      "provenance": []
    }
  },
  "nbformat": 4,
  "nbformat_minor": 5
}